{
 "cells": [
  {
   "cell_type": "code",
   "execution_count": 2,
   "metadata": {},
   "outputs": [],
   "source": [
    "import numpy as np\n",
    "from sklearn.model_selection import train_test_split\n",
    "from sklearn import datasets\n",
    "import matplotlib.pyplot as plt"
   ]
  },
  {
   "cell_type": "code",
   "execution_count": 4,
   "metadata": {},
   "outputs": [],
   "source": [
    "iris = datasets.load_iris()\n",
    "X, y = iris.data, iris.target\n",
    "X_train, X_test, y_train, y_test = train_test_split(X, y, test_size = 0.2, random_state = 666)"
   ]
  },
  {
   "cell_type": "code",
   "execution_count": 50,
   "metadata": {},
   "outputs": [],
   "source": [
    "class KNN():\n",
    "    def __init__(self, k=3):\n",
    "        self.k = k\n",
    "    \n",
    "    def fit(self, X, y):\n",
    "        self.X = X\n",
    "        self.y = y\n",
    "\n",
    "    def predict(self, X):\n",
    "        prediction = []\n",
    "        for x in X:\n",
    "            #Calculate the euclidien_distance of each data\n",
    "            distance = self._euclidien_distance(x)\n",
    "\n",
    "            #Get the indices of smallest k distance\n",
    "            k_indices = np.argsort(distance)[:self.k]\n",
    "\n",
    "            #Get the labels of k data items with smallest distance \n",
    "            k_nearest_label = [self.y[i] for i in k_indices]\n",
    "\n",
    "            #Classify this object as the most frequent class from the k data items\n",
    "            prediction.append(max(k_nearest_label, key = k_nearest_label.count))\n",
    "        \n",
    "        return prediction\n",
    "\n",
    "\n",
    "    def _euclidien_distance(self, x):\n",
    "        return np.sqrt(np.sum((x - self.X)**2, axis = 1))\n",
    "    \n",
    "    def evaluate(self, true, pred):\n",
    "        return np.mean(true == pred)"
   ]
  },
  {
   "cell_type": "code",
   "execution_count": 51,
   "metadata": {},
   "outputs": [
    {
     "name": "stdout",
     "output_type": "stream",
     "text": [
      "My model score is 1.0\n"
     ]
    }
   ],
   "source": [
    "my_model = KNN(k=3)\n",
    "my_model.fit(X_train, y_train)\n",
    "my_prediction = my_model.predict(X_test)\n",
    "print('My model score is',str(my_model.evaluate(y_test, my_prediction)))"
   ]
  },
  {
   "cell_type": "code",
   "execution_count": 52,
   "metadata": {},
   "outputs": [
    {
     "name": "stdout",
     "output_type": "stream",
     "text": [
      "SK learn model score is 1.0\n"
     ]
    }
   ],
   "source": [
    "#Accuracy score using KNN model from sklearn\n",
    "from sklearn.neighbors import  KNeighborsClassifier\n",
    "from sklearn.metrics import accuracy_score\n",
    "model = KNeighborsClassifier(n_neighbors = 3)\n",
    "model.fit(X_train, y_train)\n",
    "pred = model.predict(X_test)\n",
    "print('SK learn model score is',str(accuracy_score(y_test,pred)))"
   ]
  }
 ],
 "metadata": {
  "interpreter": {
   "hash": "01f3a41cf21a7058c6c5156d8f99420ba1408f6975297cded0721389e20d6935"
  },
  "kernelspec": {
   "display_name": "Python 3.8.11 64-bit ('PycharmProjects': conda)",
   "language": "python",
   "name": "python3"
  },
  "language_info": {
   "codemirror_mode": {
    "name": "ipython",
    "version": 3
   },
   "file_extension": ".py",
   "mimetype": "text/x-python",
   "name": "python",
   "nbconvert_exporter": "python",
   "pygments_lexer": "ipython3",
   "version": "3.8.11"
  },
  "orig_nbformat": 4
 },
 "nbformat": 4,
 "nbformat_minor": 2
}
